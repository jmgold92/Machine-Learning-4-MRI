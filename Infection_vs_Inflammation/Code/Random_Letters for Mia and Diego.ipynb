{
 "cells": [
  {
   "cell_type": "markdown",
   "metadata": {},
   "source": [
    "# Goal: Learn letters using Dad's computer code"
   ]
  },
  {
   "cell_type": "code",
   "execution_count": 31,
   "metadata": {
    "collapsed": false
   },
   "outputs": [],
   "source": [
    "%matplotlib inline \n",
    "import numpy as np\n",
    "import random\n",
    "\n",
    "Alphabet=['A','B','C','D','E','F','G',\n",
    "                 'H','I','J','K','L','M','N',\n",
    "                 'O','P','Q','R','S','T','U',\n",
    "                 'V','W','X','Y','Z',\n",
    "                'a','b','c','e','f','g','h',\n",
    "                'i','j','k','l','m','n',\n",
    "                 'o','p','q','r','s','t','u',\n",
    "                 'v','w','x','y','z']\n",
    "\n",
    "vowels=['A','E','I','O','U']\n",
    "consonants=['B','C','D','F','G',\n",
    "                 'H','J','K','L','M','N',\n",
    "                 'P','Q','R','S','T','U',\n",
    "                 'V','W','X','Y','Z']\n",
    "\n",
    "List_of_numbers=range(0,30)"
   ]
  },
  {
   "cell_type": "code",
   "execution_count": 32,
   "metadata": {
    "collapsed": false
   },
   "outputs": [],
   "source": [
    "def generate():\n",
    "    q=random.choice(Alphabet)\n",
    "    r=random.choice(List_of_numbers)\n",
    "    print(q)\n",
    "    print(r)\n",
    "    #print(random.choice(consonants)+random.choice(vowels))"
   ]
  },
  {
   "cell_type": "code",
   "execution_count": 100,
   "metadata": {
    "collapsed": false
   },
   "outputs": [
    {
     "name": "stdout",
     "output_type": "stream",
     "text": [
      "t\n",
      "21\n"
     ]
    }
   ],
   "source": [
    "generate()"
   ]
  }
 ],
 "metadata": {
  "anaconda-cloud": {},
  "kernelspec": {
   "display_name": "Python [conda root]",
   "language": "python",
   "name": "conda-root-py"
  },
  "language_info": {
   "codemirror_mode": {
    "name": "ipython",
    "version": 3
   },
   "file_extension": ".py",
   "mimetype": "text/x-python",
   "name": "python",
   "nbconvert_exporter": "python",
   "pygments_lexer": "ipython3",
   "version": "3.5.2"
  }
 },
 "nbformat": 4,
 "nbformat_minor": 2
}
